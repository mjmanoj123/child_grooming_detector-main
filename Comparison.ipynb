{
  "nbformat": 4,
  "nbformat_minor": 0,
  "metadata": {
    "colab": {
      "name": "Untitled1.ipynb",
      "provenance": [],
      "authorship_tag": "ABX9TyNh5zY9sQGOzOYCVUMzaFsS",
      "include_colab_link": true
    },
    "kernelspec": {
      "name": "python3",
      "display_name": "Python 3"
    },
    "language_info": {
      "name": "python"
    }
  },
  "cells": [
    {
      "cell_type": "markdown",
      "metadata": {
        "id": "view-in-github",
        "colab_type": "text"
      },
      "source": [
        "<a href=\"https://colab.research.google.com/github/DavinciB/child_grooming_detector/blob/main/Comparison.ipynb\" target=\"_parent\"><img src=\"https://colab.research.google.com/assets/colab-badge.svg\" alt=\"Open In Colab\"/></a>"
      ]
    },
    {
      "cell_type": "code",
      "metadata": {
        "colab": {
          "base_uri": "https://localhost:8080/"
        },
        "id": "1O1jeM0TwsX2",
        "outputId": "d07714cc-3e98-493e-949e-b327d587ee39"
      },
      "source": [
        "from google.colab import drive\n",
        "drive.mount('/content/drive')"
      ],
      "execution_count": 1,
      "outputs": [
        {
          "output_type": "stream",
          "text": [
            "Drive already mounted at /content/drive; to attempt to forcibly remount, call drive.mount(\"/content/drive\", force_remount=True).\n"
          ],
          "name": "stdout"
        }
      ]
    },
    {
      "cell_type": "code",
      "metadata": {
        "id": "EUKI0BJ_xsoS"
      },
      "source": [
        "import xml.etree.ElementTree as ET\n",
        "from matplotlib import pyplot as plt\n",
        "import csv\n",
        "\n",
        "\n",
        "def get_labels_dict(data_path):\n",
        "    labels_dict = {}\n",
        "    with open(data_path + 'sci_labels.csv', 'r') as f:\n",
        "        file = csv.reader(f)\n",
        "        for row in file:\n",
        "            labels_dict[row[0]] = row[1]\n",
        "    return labels_dict\n",
        "\n",
        "def get_features_labels(root, labels_dict):\n",
        "    corpus = []\n",
        "    labels = []\n",
        "    for conversation in root:\n",
        "        string = \" \"\n",
        "        for message in conversation:\n",
        "            text = message.find('text').text\n",
        "            if text is not None:\n",
        "                string = string + \"\\r\\n\" + text\n",
        "        corpus.append(string)\n",
        "        labels.append(int(labels_dict[conversation.get('id')]))\n",
        "    return corpus, labels\n",
        "train_data_path = '/content/drive/MyDrive/online-grooming-detector-master/data/svm_training_data/'\n",
        "training_xml = ET.parse(train_data_path + 'training_data.xml')\n",
        "train_root = training_xml.getroot()\n",
        "test_data_path = '/content/drive/MyDrive/online-grooming-detector-master/data/svm_test_data/'\n",
        "test_data_src = '/content/drive/MyDrive/online-grooming-detector-master/data/pan12-sexual-predator-identification-test-corpus-2012-05-21/'\n",
        "test_xml = ET.parse(test_data_src + 'pan12-sexual-predator-identification-test-corpus-2012-05-17.xml')\n",
        "test_root = test_xml.getroot()\n",
        "train_corpus, train_labels = get_features_labels(train_root, get_labels_dict(train_data_path))\n",
        "test_corpus, test_labels = get_features_labels(test_root, get_labels_dict(test_data_path))"
      ],
      "execution_count": 2,
      "outputs": []
    },
    {
      "cell_type": "code",
      "metadata": {
        "id": "tB1ZsFDMde-W"
      },
      "source": [
        "from sklearn.feature_extraction.text import TfidfVectorizer\n",
        "import scipy\n",
        "import numpy as np\n",
        "\n",
        "vectorizer = TfidfVectorizer()\n",
        "X_train = vectorizer.fit_transform(train_corpus)\n",
        "X_test = vectorizer.transform(test_corpus)\n",
        "X_train = scipy.sparse.csr_matrix(X_train)\n",
        "y_train = np.array(train_labels)\n",
        "X_test = scipy.sparse.csr_matrix(X_test)\n",
        "y_test = np.array(test_labels)"
      ],
      "execution_count": 7,
      "outputs": []
    },
    {
      "cell_type": "code",
      "metadata": {
        "colab": {
          "base_uri": "https://localhost:8080/",
          "height": 120
        },
        "id": "KBeGGpbudhO2",
        "outputId": "4fdba65a-86b2-4b4e-ef83-a82e4edd2695"
      },
      "source": [
        "from sklearn import svm\n",
        "from sklearn.model_selection import KFold\n",
        "import matplotlib.pyplot as plt\n",
        "from sklearn import metrics\n",
        "import heapq\n",
        "import operator\n",
        "import numpy as np\n",
        "from sklearn.svm import LinearSVC\n",
        "\n",
        "num_fold = 10\n",
        "k_fold = KFold(num_fold, True, 1)\n",
        "acc = []\n",
        "\n",
        "for coef_c in np.arange(0.1, 5.1, 0.1):\n",
        "    acc_arr = np.zeros(num_fold)\n",
        "    ind = 0\n",
        "    for train_rows, val_rows in k_fold.split(X_train):\n",
        "        model = LinearSVC(random_state=0, C=coef_c, loss='squared_hinge', dual=True)\n",
        "        model.fit(X_train[train_rows], y_train[train_rows])\n",
        "        pred_y = model.predict(X_train[val_rows])\n",
        "        acc_arr[ind] = metrics.accuracy_score(y_train[val_rows], pred_y)\n",
        "        ind += 1\n",
        "    acc.append([coef_c, np.mean(acc_arr)])\n",
        "    print(\"c={}, Accuracy: {}\".format(coef_c, acc[len(acc)-1][1]))\n",
        "plt.plot([i[0] for i in acc], [i[1] for i in acc])\n",
        "plt.title(\"Performance of SVM\")\n",
        "plt.xlabel(\"C value\")\n",
        "plt.ylabel(\"Accuracy\")\n",
        "plt.show()\n",
        "best = heapq.nlargest(1, acc, key=operator.itemgetter(1))[0]\n",
        "print(\"Best performing linear kernel SVM: C={}, Acc={}\".format(best[0], best[1]))"
      ],
      "execution_count": 8,
      "outputs": [
        {
          "output_type": "execute_result",
          "data": {
            "application/vnd.google.colaboratory.intrinsic+json": {
              "type": "string"
            },
            "text/plain": [
              "'num_fold = 10\\nk_fold = KFold(num_fold, True, 1)\\nacc = []\\n\\nfor coef_c in np.arange(0.1, 5.1, 0.1):\\n    acc_arr = np.zeros(num_fold)\\n    ind = 0\\n    for train_rows, val_rows in k_fold.split(X_train):\\n        model = LinearSVC(random_state=0, C=coef_c, loss=\\'squared_hinge\\', dual=True)\\n        model.fit(X_train[train_rows], y_train[train_rows])\\n        pred_y = model.predict(X_train[val_rows])\\n        acc_arr[ind] = metrics.accuracy_score(y_train[val_rows], pred_y)\\n        ind += 1\\n    acc.append([coef_c, np.mean(acc_arr)])\\n    print(\"c={}, Accuracy: {}\".format(coef_c, acc[len(acc)-1][1]))\\nplt.plot([i[0] for i in acc], [i[1] for i in acc])\\nplt.title(\"Performance of SVM\")\\nplt.xlabel(\"C value\")\\nplt.ylabel(\"Accuracy\")\\nplt.show()\\nbest = heapq.nlargest(1, acc, key=operator.itemgetter(1))[0]\\nprint(\"Best performing linear kernel SVM: C={}, Acc={}\".format(best[0], best[1]))'"
            ]
          },
          "metadata": {
            "tags": []
          },
          "execution_count": 8
        }
      ]
    },
    {
      "cell_type": "code",
      "metadata": {
        "colab": {
          "base_uri": "https://localhost:8080/",
          "height": 232
        },
        "id": "eE13L0nndouV",
        "outputId": "467d2990-8ef6-4a35-e32b-cafcac25115e"
      },
      "source": [
        "from sklearn import metrics\n",
        "from sklearn.metrics import classification_report,confusion_matrix\n",
        "model = LinearSVC(random_state=0, C=best[0], loss='squared_hinge', dual=True)\n",
        "model.fit(X_train, y_train)\n",
        "y_pred = model.predict(X_test)\n",
        "print(\"LSVM-ACCURACY => \"+str(metrics.accuracy_score(y_test, y_pred)*100)+str(\" %\"))\n",
        "\n",
        "#CONFUSION MATRIX\n",
        "print(confusion_matrix(y_test,y_pred))\n",
        "print('\\n')\n",
        "print(classification_report(y_test,y_pred))\n",
        "\n",
        "#Plot confusion_matrix\n",
        "labels = ['0', '1']\n",
        "fig = plt.figure()\n",
        "ax = fig.add_subplot(111)\n",
        "cax = ax.matshow(confusion_matrix(y_test,y_pred))\n",
        "plt.title('Confusion matrix of the classifier')\n",
        "fig.colorbar(cax)\n",
        "ax.set_xticklabels([''] + labels)\n",
        "ax.set_yticklabels([''] + labels)\n",
        "plt.xlabel('Predicted')\n",
        "plt.ylabel('True')\n",
        "plt.show()"
      ],
      "execution_count": 5,
      "outputs": [
        {
          "output_type": "error",
          "ename": "NameError",
          "evalue": "ignored",
          "traceback": [
            "\u001b[0;31m---------------------------------------------------------------------------\u001b[0m",
            "\u001b[0;31mNameError\u001b[0m                                 Traceback (most recent call last)",
            "\u001b[0;32m<ipython-input-5-45bfc0bc09b6>\u001b[0m in \u001b[0;36m<module>\u001b[0;34m()\u001b[0m\n\u001b[1;32m      1\u001b[0m \u001b[0;32mfrom\u001b[0m \u001b[0msklearn\u001b[0m \u001b[0;32mimport\u001b[0m \u001b[0mmetrics\u001b[0m\u001b[0;34m\u001b[0m\u001b[0;34m\u001b[0m\u001b[0m\n\u001b[1;32m      2\u001b[0m \u001b[0;32mfrom\u001b[0m \u001b[0msklearn\u001b[0m\u001b[0;34m.\u001b[0m\u001b[0mmetrics\u001b[0m \u001b[0;32mimport\u001b[0m \u001b[0mclassification_report\u001b[0m\u001b[0;34m,\u001b[0m\u001b[0mconfusion_matrix\u001b[0m\u001b[0;34m\u001b[0m\u001b[0;34m\u001b[0m\u001b[0m\n\u001b[0;32m----> 3\u001b[0;31m \u001b[0mmodel\u001b[0m \u001b[0;34m=\u001b[0m \u001b[0mLinearSVC\u001b[0m\u001b[0;34m(\u001b[0m\u001b[0mrandom_state\u001b[0m\u001b[0;34m=\u001b[0m\u001b[0;36m0\u001b[0m\u001b[0;34m,\u001b[0m \u001b[0mC\u001b[0m\u001b[0;34m=\u001b[0m\u001b[0mbest\u001b[0m\u001b[0;34m[\u001b[0m\u001b[0;36m0\u001b[0m\u001b[0;34m]\u001b[0m\u001b[0;34m,\u001b[0m \u001b[0mloss\u001b[0m\u001b[0;34m=\u001b[0m\u001b[0;34m'squared_hinge'\u001b[0m\u001b[0;34m,\u001b[0m \u001b[0mdual\u001b[0m\u001b[0;34m=\u001b[0m\u001b[0;32mTrue\u001b[0m\u001b[0;34m)\u001b[0m\u001b[0;34m\u001b[0m\u001b[0;34m\u001b[0m\u001b[0m\n\u001b[0m\u001b[1;32m      4\u001b[0m \u001b[0mmodel\u001b[0m\u001b[0;34m.\u001b[0m\u001b[0mfit\u001b[0m\u001b[0;34m(\u001b[0m\u001b[0mX_train\u001b[0m\u001b[0;34m,\u001b[0m \u001b[0my_train\u001b[0m\u001b[0;34m)\u001b[0m\u001b[0;34m\u001b[0m\u001b[0;34m\u001b[0m\u001b[0m\n\u001b[1;32m      5\u001b[0m \u001b[0my_pred\u001b[0m \u001b[0;34m=\u001b[0m \u001b[0mmodel\u001b[0m\u001b[0;34m.\u001b[0m\u001b[0mpredict\u001b[0m\u001b[0;34m(\u001b[0m\u001b[0mX_test\u001b[0m\u001b[0;34m)\u001b[0m\u001b[0;34m\u001b[0m\u001b[0;34m\u001b[0m\u001b[0m\n",
            "\u001b[0;31mNameError\u001b[0m: name 'best' is not defined"
          ]
        }
      ]
    },
    {
      "cell_type": "code",
      "metadata": {
        "colab": {
          "base_uri": "https://localhost:8080/",
          "height": 544
        },
        "id": "lcSw259IrWu8",
        "outputId": "fe92cd49-aae3-4e2a-ceff-8a9c8a4d10d9"
      },
      "source": [
        "#logistic regression\n",
        "import time\n",
        "start=time.time()\n",
        "from sklearn import linear_model\n",
        "from sklearn import metrics\n",
        "log=linear_model.LogisticRegression()\n",
        "\n",
        "\n",
        "log.fit(X_train,y_train)\n",
        "y_pred=(log.predict(X_test))\n",
        "print(\"LOGISTIC-REGRESSION-ACCURACY => \"+str(metrics.accuracy_score(y_test, y_pred)*100)+str(\" %\"))\n",
        "end=time.time()\n",
        "print(\"time=\",end-start)\n",
        "#CLASSIFICATION REPORT\n",
        "from sklearn.metrics import classification_report,confusion_matrix\n",
        "#CONFUSION MATRIX\n",
        "print(confusion_matrix(y_test,y_pred))\n",
        "print('\\n')\n",
        "print(classification_report(y_test,y_pred))\n",
        "\n",
        "#Plot confusion_matrix\n",
        "labels = ['0', '1']\n",
        "fig = plt.figure()\n",
        "ax = fig.add_subplot(111)\n",
        "cax = ax.matshow(confusion_matrix(y_test,y_pred))\n",
        "plt.title('Confusion matrix of the classifier')\n",
        "fig.colorbar(cax)\n",
        "ax.set_xticklabels([''] + labels)\n",
        "ax.set_yticklabels([''] + labels)\n",
        "plt.xlabel('Predicted')\n",
        "plt.ylabel('True')\n",
        "plt.show()"
      ],
      "execution_count": 6,
      "outputs": [
        {
          "output_type": "stream",
          "text": [
            "LOGISTIC-REGRESSION-ACCURACY => 98.47803104533031 %\n",
            "time= 2.4883899688720703\n",
            "[[151307     84]\n",
            " [  2277   1460]]\n",
            "\n",
            "\n",
            "              precision    recall  f1-score   support\n",
            "\n",
            "           0       0.99      1.00      0.99    151391\n",
            "           1       0.95      0.39      0.55      3737\n",
            "\n",
            "    accuracy                           0.98    155128\n",
            "   macro avg       0.97      0.70      0.77    155128\n",
            "weighted avg       0.98      0.98      0.98    155128\n",
            "\n"
          ],
          "name": "stdout"
        },
        {
          "output_type": "display_data",
          "data": {
            "image/png": "[encoded data removed]",
            "text/plain": [
              "<Figure size 432x288 with 2 Axes>"
            ]
          },
          "metadata": {
            "tags": [],
            "needs_background": "light"
          }
        }
      ]
    },
    {
      "cell_type": "code",
      "metadata": {
        "colab": {
          "base_uri": "https://localhost:8080/",
          "height": 548
        },
        "id": "Voi-4-zmvfyc",
        "outputId": "52a08977-f4ad-4ed7-a51d-f0f78c87a98d"
      },
      "source": [
        "import time\n",
        "start=time.time()\n",
        "from sklearn.ensemble import AdaBoostClassifier\n",
        "abc = AdaBoostClassifier()\n",
        "\n",
        "# Train Adaboost Classifer\n",
        "model = abc.fit(X_train, y_train)\n",
        "y_pred = model.predict(X_test)\n",
        "\n",
        "print(\"Adaboost-ACCURACY => \"+str(metrics.accuracy_score(y_test, y_pred)*100)+str(\" %\"))\n",
        "end=time.time()\n",
        "print(\"time=\"+str(end-start))\n",
        "\n",
        "\n",
        "#CLASSIFICATION REPORT\n",
        "from sklearn.metrics import classification_report,confusion_matrix\n",
        "#CONFUSION MATRIX\n",
        "print(confusion_matrix(y_test,y_pred))\n",
        "print('\\n')\n",
        "print(classification_report(y_test,y_pred))\n",
        "\n",
        "#Plot confusion_matrix\n",
        "labels = ['0', '1']\n",
        "fig = plt.figure()\n",
        "ax = fig.add_subplot(111)\n",
        "cax = ax.matshow(confusion_matrix(y_test,y_pred))\n",
        "plt.title('Confusion matrix of the classifier')\n",
        "fig.colorbar(cax)\n",
        "ax.set_xticklabels([''] + labels)\n",
        "ax.set_yticklabels([''] + labels)\n",
        "plt.xlabel('Predicted')\n",
        "plt.ylabel('True')\n",
        "plt.show()"
      ],
      "execution_count": null,
      "outputs": [
        {
          "output_type": "stream",
          "text": [
            "Adaboost-ACCURACY => 98.44708885565468 %\n",
            "time=21.593843936920166\n",
            "[[151043    348]\n",
            " [  2061   1676]]\n",
            "\n",
            "\n",
            "              precision    recall  f1-score   support\n",
            "\n",
            "           0       0.99      1.00      0.99    151391\n",
            "           1       0.83      0.45      0.58      3737\n",
            "\n",
            "    accuracy                           0.98    155128\n",
            "   macro avg       0.91      0.72      0.79    155128\n",
            "weighted avg       0.98      0.98      0.98    155128\n",
            "\n"
          ],
          "name": "stdout"
        },
        {
          "output_type": "display_data",
          "data": {
            "image/png": "[encoded data removed]",
            "text/plain": [
              "<Figure size 432x288 with 2 Axes>"
            ]
          },
          "metadata": {
            "tags": [],
            "needs_background": "light"
          }
        }
      ]
    },
    {
      "cell_type": "code",
      "metadata": {
        "colab": {
          "base_uri": "https://localhost:8080/",
          "height": 561
        },
        "id": "xK4WP9-qv_IH",
        "outputId": "e6deb3ef-e8c9-4b36-89a4-1b956279ebfc"
      },
      "source": [
        "#DECISION TREE\n",
        "import time\n",
        "Start = time.time ()\n",
        "from sklearn.tree import DecisionTreeClassifier \n",
        "Decision_tree= DecisionTreeClassifier(criterion = 'gini') \n",
        "Decision_tree.fit(X_train, y_train)\n",
        "Y_pred = Decision_tree.predict(X_test) \n",
        "    \n",
        "print(\"\\nConfusion Matrix : model evaluation\")\n",
        "from sklearn.metrics import confusion_matrix\n",
        "print(confusion_matrix(y_test, Y_pred))\n",
        "    \n",
        "print(\"\\n Classification report :\")\n",
        "from sklearn.metrics import classification_report\n",
        "print(classification_report(y_test, Y_pred))\n",
        "    \n",
        "\n",
        "from sklearn import metrics\n",
        "print(\"Decision Tree-ACCURACY => \"+str(metrics.accuracy_score(y_test, Y_pred)*100)+str(\" %\"))\n",
        "\n",
        "#Plot confusion_matrix\n",
        "labels = ['0', '1']\n",
        "fig = plt.figure()\n",
        "ax = fig.add_subplot(111)\n",
        "cax = ax.matshow(confusion_matrix(y_test,Y_pred))\n",
        "plt.title('Confusion matrix of the classifier')\n",
        "fig.colorbar(cax)\n",
        "ax.set_xticklabels([''] + labels)\n",
        "ax.set_yticklabels([''] + labels)\n",
        "plt.xlabel('Predicted')\n",
        "plt.ylabel('True')\n",
        "plt.show()"
      ],
      "execution_count": null,
      "outputs": [
        {
          "output_type": "stream",
          "text": [
            "\n",
            "Confusion Matrix : model evaluation\n",
            "[[149981   1410]\n",
            " [  2223   1514]]\n",
            "\n",
            " Classification report :\n",
            "              precision    recall  f1-score   support\n",
            "\n",
            "           0       0.99      0.99      0.99    151391\n",
            "           1       0.52      0.41      0.45      3737\n",
            "\n",
            "    accuracy                           0.98    155128\n",
            "   macro avg       0.75      0.70      0.72    155128\n",
            "weighted avg       0.97      0.98      0.98    155128\n",
            "\n",
            "Decision Tree-ACCURACY => 97.65806301892631 %\n"
          ],
          "name": "stdout"
        },
        {
          "output_type": "display_data",
          "data": {
            "image/png": "[encoded data removed]",
            "text/plain": [
              "<Figure size 432x288 with 2 Axes>"
            ]
          },
          "metadata": {
            "tags": [],
            "needs_background": "light"
          }
        }
      ]
    },
    {
      "cell_type": "code",
      "metadata": {
        "colab": {
          "base_uri": "https://localhost:8080/",
          "height": 544
        },
        "id": "ZehtuFRw9kWe",
        "outputId": "ae1cfa5f-f94d-4565-cc82-4657beffc727"
      },
      "source": [
        "import pandas as pd\n",
        "from sklearn import model_selection\n",
        "from sklearn.ensemble import RandomForestClassifier\n",
        "rfc = RandomForestClassifier()\n",
        "rfc.fit(X_train,y_train)\n",
        "# predictions\n",
        "y_pred = rfc.predict(X_test)\n",
        "\n",
        "print(\"RandomForest-ACCURACY => \"+str(metrics.accuracy_score(y_test, y_pred)*100)+str(\" %\"))\n",
        "end=time.time()\n",
        "print(\"time=\"+str(end-start))\n",
        "\n",
        "\n",
        "#CLASSIFICATION REPORT\n",
        "from sklearn.metrics import classification_report,confusion_matrix\n",
        "#CONFUSION MATRIX\n",
        "print(confusion_matrix(y_test,y_pred))\n",
        "print('\\n')\n",
        "print(classification_report(y_test,y_pred))\n",
        "\n",
        "#Plot confusion_matrix\n",
        "labels = ['0', '1']\n",
        "fig = plt.figure()\n",
        "ax = fig.add_subplot(111)\n",
        "cax = ax.matshow(confusion_matrix(y_test,y_pred))\n",
        "plt.title('Confusion matrix of the classifier')\n",
        "fig.colorbar(cax)\n",
        "ax.set_xticklabels([''] + labels)\n",
        "ax.set_yticklabels([''] + labels)\n",
        "plt.xlabel('Predicted')\n",
        "plt.ylabel('True')\n",
        "plt.show()"
      ],
      "execution_count": 9,
      "outputs": [
        {
          "output_type": "stream",
          "text": [
            "RandomForest-ACCURACY => 97.8707905729462 %\n",
            "time=312.0797851085663\n",
            "[[151391      0]\n",
            " [  3303    434]]\n",
            "\n",
            "\n",
            "              precision    recall  f1-score   support\n",
            "\n",
            "           0       0.98      1.00      0.99    151391\n",
            "           1       1.00      0.12      0.21      3737\n",
            "\n",
            "    accuracy                           0.98    155128\n",
            "   macro avg       0.99      0.56      0.60    155128\n",
            "weighted avg       0.98      0.98      0.97    155128\n",
            "\n"
          ],
          "name": "stdout"
        },
        {
          "output_type": "display_data",
          "data": {
            "image/png": "[encoded data removed]",
            "text/plain": [
              "<Figure size 432x288 with 2 Axes>"
            ]
          },
          "metadata": {
            "tags": [],
            "needs_background": "light"
          }
        }
      ]
    },
    {
      "cell_type": "code",
      "metadata": {
        "id": "VPV8foMzCWxu"
      },
      "source": [
        "'''# Import necessary modules \n",
        "import pandas as pd\n",
        "from matplotlib import pyplot as plt\n",
        "from sklearn.svm import SVC\n",
        "from sklearn.model_selection import train_test_split\n",
        "from sklearn import metrics \n",
        "from sklearn.metrics import classification_report, confusion_matrix\n",
        "# Load data \n",
        "data = pd. read_csv('diabetes.csv')\n",
        "print(data.shape)\n",
        "print (\"sampe data\")\n",
        "print(data.head())\n",
        "# Create feature and target arrays \n",
        "labels=data['Outcome']\n",
        "features=data.drop(['Outcome'],axis=1)\n",
        "print (list(features))\n",
        "X=features.values\n",
        "y=labels.values\n",
        "# Split into training and test set \n",
        "X_train, X_test, y_train, y_test = train_test_split(X, y, test_size=0.33,random_state=10)\n",
        "#Import SVM model\n",
        "svclassifier = SVC(kernel='linear')\n",
        "#Create a SVM Classifier\n",
        "svclassifier.fit(X_train, y_train)\n",
        "#Train the model using the training sets\n",
        "y_pred = svclassifier.predict(X_test)\n",
        "# Model Accuracy\n",
        "print(\"Accuracy:\",metrics.accuracy_score(y_test, y_pred))\n",
        "\n",
        "#Model Evaluation: Compute classification_report and  confusion_matrix\n",
        "print(confusion_matrix(y_test,y_pred))\n",
        "print(classification_report(y_test,y_pred))\n",
        "\n",
        "#Plot confusion_matrix\n",
        "labels = ['0', '1']\n",
        "fig = plt.figure()\n",
        "ax = fig.add_subplot(111)\n",
        "cax = ax.matshow(confusion_matrix(y_test,y_pred))\n",
        "plt.title('Confusion matrix of the classifier')\n",
        "fig.colorbar(cax)\n",
        "ax.set_xticklabels([''] + labels)\n",
        "ax.set_yticklabels([''] + labels)\n",
        "plt.xlabel('Predicted')\n",
        "plt.ylabel('True')\n",
        "plt.show()'''"
      ],
      "execution_count": null,
      "outputs": []
    }
  ]
}