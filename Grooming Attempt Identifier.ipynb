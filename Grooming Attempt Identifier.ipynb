{
  "nbformat": 4,
  "nbformat_minor": 0,
  "metadata": {
    "colab": {
      "name": "Grooming Attempt Identifier.ipynb",
      "provenance": [],
      "include_colab_link": true
    },
    "kernelspec": {
      "display_name": "Python 3",
      "language": "python",
      "name": "python3"
    },
    "language_info": {
      "codemirror_mode": {
        "name": "ipython",
        "version": 3
      },
      "file_extension": ".py",
      "mimetype": "text/x-python",
      "name": "python",
      "nbconvert_exporter": "python",
      "pygments_lexer": "ipython3",
      "version": "3.8.5"
    }
  },
  "cells": [
    {
      "cell_type": "markdown",
      "metadata": {
        "id": "view-in-github",
        "colab_type": "text"
      },
      "source": [
        "<a href=\"https://colab.research.google.com/github/DavinciB/child_grooming_detector/blob/main/Grooming%20Attempt%20Identifier.ipynb\" target=\"_parent\"><img src=\"https://colab.research.google.com/assets/colab-badge.svg\" alt=\"Open In Colab\"/></a>"
      ]
    },
    {
      "cell_type": "code",
      "metadata": {
        "colab": {
          "base_uri": "https://localhost:8080/"
        },
        "id": "QiYIZW-20DN2",
        "outputId": "f62e377e-f335-4232-f1f4-1ab6630b5364"
      },
      "source": [
        "from google.colab import drive\n",
        "drive.mount('/content/drive')"
      ],
      "execution_count": 2,
      "outputs": [
        {
          "output_type": "stream",
          "text": [
            "Drive already mounted at /content/drive; to attempt to forcibly remount, call drive.mount(\"/content/drive\", force_remount=True).\n"
          ],
          "name": "stdout"
        }
      ]
    },
    {
      "cell_type": "code",
      "metadata": {
        "id": "4swqd-t7zXQ4"
      },
      "source": [
        "import xml.etree.ElementTree as ET\n",
        "import csv\n",
        "\n",
        "\n",
        "def get_labels_dict(data_path):\n",
        "    labels_dict = {}\n",
        "    with open(data_path + 'sci_labels.csv', 'r') as f:\n",
        "        file = csv.reader(f)\n",
        "        for row in file:\n",
        "            labels_dict[row[0]] = row[1]\n",
        "    return labels_dict\n",
        "\n",
        "def get_features_labels(root, labels_dict):\n",
        "    corpus = []\n",
        "    labels = []\n",
        "    for conversation in root:\n",
        "        string = \" \"\n",
        "        for message in conversation:\n",
        "            text = message.find('text').text\n",
        "            if text is not None:\n",
        "                string = string + \"\\r\\n\" + text\n",
        "        corpus.append(string)\n",
        "        labels.append(int(labels_dict[conversation.get('id')]))\n",
        "    return corpus, labels"
      ],
      "execution_count": 3,
      "outputs": []
    },
    {
      "cell_type": "code",
      "metadata": {
        "id": "ULhdhCmuzXQ7"
      },
      "source": [
        "train_data_path = '/content/drive/MyDrive/online-grooming-detector-master/data/svm_training_data/'\n",
        "training_xml = ET.parse(train_data_path + 'training_data.xml')\n",
        "train_root = training_xml.getroot()\n",
        "test_data_path = '/content/drive/MyDrive/online-grooming-detector-master/data/svm_test_data/'\n",
        "test_data_src = '/content/drive/MyDrive/online-grooming-detector-master/data/pan12-sexual-predator-identification-test-corpus-2012-05-21/'\n",
        "test_xml = ET.parse(test_data_src + 'pan12-sexual-predator-identification-test-corpus-2012-05-17.xml')\n",
        "test_root = test_xml.getroot()\n",
        "train_corpus, train_labels = get_features_labels(train_root, get_labels_dict(train_data_path))\n",
        "test_corpus, test_labels = get_features_labels(test_root, get_labels_dict(test_data_path))"
      ],
      "execution_count": 4,
      "outputs": []
    },
    {
      "cell_type": "code",
      "metadata": {
        "id": "OLRzGWn-zXQ-"
      },
      "source": [
        "from sklearn.feature_extraction.text import TfidfVectorizer\n",
        "import scipy\n",
        "import numpy as np\n",
        "\n",
        "vectorizer = TfidfVectorizer()\n",
        "X_train = vectorizer.fit_transform(train_corpus)\n",
        "X_test = vectorizer.transform(test_corpus)\n",
        "X_train = scipy.sparse.csr_matrix(X_train)\n",
        "y_train = np.array(train_labels)\n",
        "X_test = scipy.sparse.csr_matrix(X_test)\n",
        "y_test = np.array(test_labels)"
      ],
      "execution_count": 5,
      "outputs": []
    },
    {
      "cell_type": "code",
      "metadata": {
        "colab": {
          "base_uri": "https://localhost:8080/",
          "height": 1000
        },
        "id": "Cw8ptafuzXQ_",
        "outputId": "4f543fb8-87f8-4712-8322-b9958af00ed1"
      },
      "source": [
        "from sklearn import svm\n",
        "from sklearn.model_selection import KFold\n",
        "import matplotlib.pyplot as plt\n",
        "from sklearn import metrics\n",
        "import heapq\n",
        "import operator\n",
        "import numpy as np\n",
        "from sklearn.svm import LinearSVC\n",
        "\n",
        "num_fold = 10\n",
        "k_fold = KFold(num_fold, True, 1)\n",
        "acc = []\n",
        "\n",
        "for coef_c in np.arange(0.1, 5.1, 0.1):\n",
        "    acc_arr = np.zeros(num_fold)\n",
        "    ind = 0\n",
        "    for train_rows, val_rows in k_fold.split(X_train):\n",
        "        model = LinearSVC(random_state=0, C=coef_c, loss='squared_hinge', dual=True)\n",
        "        model.fit(X_train[train_rows], y_train[train_rows])\n",
        "        pred_y = model.predict(X_train[val_rows])\n",
        "        acc_arr[ind] = metrics.accuracy_score(y_train[val_rows], pred_y)\n",
        "        ind += 1\n",
        "    acc.append([coef_c, np.mean(acc_arr)])\n",
        "    print(\"c={}, Accuracy: {}\".format(coef_c, acc[len(acc)-1][1]))\n",
        "plt.plot([i[0] for i in acc], [i[1] for i in acc])\n",
        "plt.title(\"Performance of SVM\")\n",
        "plt.xlabel(\"C value\")\n",
        "plt.ylabel(\"Accuracy\")\n",
        "plt.show()\n",
        "best = heapq.nlargest(1, acc, key=operator.itemgetter(1))[0]\n",
        "print(\"Best performing linear kernel SVM: C={}, Acc={}\".format(best[0], best[1]))"
      ],
      "execution_count": 6,
      "outputs": [
        {
          "output_type": "stream",
          "text": [
            "c=0.1, Accuracy: 0.9917218543046358\n",
            "c=0.2, Accuracy: 0.9937086092715232\n",
            "c=0.30000000000000004, Accuracy: 0.9943708609271523\n",
            "c=0.4, Accuracy: 0.994701986754967\n",
            "c=0.5, Accuracy: 0.9950331125827814\n",
            "c=0.6, Accuracy: 0.995364238410596\n",
            "c=0.7000000000000001, Accuracy: 0.995364238410596\n",
            "c=0.8, Accuracy: 0.9953642384105962\n",
            "c=0.9, Accuracy: 0.9954304635761589\n",
            "c=1.0, Accuracy: 0.995364238410596\n",
            "c=1.1, Accuracy: 0.995364238410596\n",
            "c=1.2000000000000002, Accuracy: 0.9952980132450332\n",
            "c=1.3000000000000003, Accuracy: 0.9952980132450332\n",
            "c=1.4000000000000001, Accuracy: 0.9954304635761589\n",
            "c=1.5000000000000002, Accuracy: 0.9954966887417218\n",
            "c=1.6, Accuracy: 0.9955629139072848\n",
            "c=1.7000000000000002, Accuracy: 0.9955629139072848\n",
            "c=1.8000000000000003, Accuracy: 0.9955629139072848\n",
            "c=1.9000000000000001, Accuracy: 0.9955629139072848\n",
            "c=2.0, Accuracy: 0.9955629139072848\n",
            "c=2.1, Accuracy: 0.9955629139072848\n",
            "c=2.2, Accuracy: 0.9954966887417218\n",
            "c=2.3000000000000003, Accuracy: 0.9955629139072848\n",
            "c=2.4000000000000004, Accuracy: 0.9955629139072848\n",
            "c=2.5000000000000004, Accuracy: 0.9955629139072848\n",
            "c=2.6, Accuracy: 0.9956291390728478\n",
            "c=2.7, Accuracy: 0.9956291390728478\n",
            "c=2.8000000000000003, Accuracy: 0.9956291390728478\n",
            "c=2.9000000000000004, Accuracy: 0.9956291390728478\n",
            "c=3.0000000000000004, Accuracy: 0.9956291390728478\n",
            "c=3.1, Accuracy: 0.9956291390728478\n",
            "c=3.2, Accuracy: 0.9956291390728478\n",
            "c=3.3000000000000003, Accuracy: 0.9956953642384105\n",
            "c=3.4000000000000004, Accuracy: 0.9956953642384105\n",
            "c=3.5000000000000004, Accuracy: 0.9956291390728478\n",
            "c=3.6, Accuracy: 0.9956291390728478\n",
            "c=3.7, Accuracy: 0.9956291390728478\n",
            "c=3.8000000000000003, Accuracy: 0.9955629139072848\n",
            "c=3.9000000000000004, Accuracy: 0.9955629139072848\n",
            "c=4.0, Accuracy: 0.9955629139072848\n",
            "c=4.1, Accuracy: 0.9955629139072848\n",
            "c=4.2, Accuracy: 0.9955629139072848\n",
            "c=4.3, Accuracy: 0.9955629139072848\n",
            "c=4.3999999999999995, Accuracy: 0.9955629139072848\n",
            "c=4.5, Accuracy: 0.9955629139072848\n",
            "c=4.6, Accuracy: 0.9954966887417219\n",
            "c=4.7, Accuracy: 0.9954966887417219\n",
            "c=4.8, Accuracy: 0.9954966887417219\n",
            "c=4.9, Accuracy: 0.9954966887417219\n",
            "c=5.0, Accuracy: 0.9954966887417219\n"
          ],
          "name": "stdout"
        },
        {
          "output_type": "display_data",
          "data": {
            "image/png": "[encoded data removed]",
            "text/plain": [
              "<Figure size 432x288 with 1 Axes>"
            ]
          },
          "metadata": {
            "tags": [],
            "needs_background": "light"
          }
        },
        {
          "output_type": "stream",
          "text": [
            "Best performing linear kernel SVM: C=3.3000000000000003, Acc=0.9956953642384105\n"
          ],
          "name": "stdout"
        }
      ]
    },
    {
      "cell_type": "code",
      "metadata": {
        "colab": {
          "base_uri": "https://localhost:8080/"
        },
        "id": "yroG_krozXRG",
        "outputId": "5cd5b01f-0506-45c4-89be-4ca29521ff6a"
      },
      "source": [
        "model = LinearSVC(random_state=0, C=best[0], loss='squared_hinge', dual=True)\n",
        "model.fit(X_train, y_train)\n",
        "pred_y = model.predict(X_test)\n",
        "print(metrics.accuracy_score(y_test, pred_y))"
      ],
      "execution_count": 7,
      "outputs": [
        {
          "output_type": "stream",
          "text": [
            "0.9851026249290908\n"
          ],
          "name": "stdout"
        }
      ]
    },
    {
      "cell_type": "code",
      "metadata": {
        "id": "A_4IlXeBzXRK"
      },
      "source": [
        "import pickle\n",
        "import datetime\n",
        "filename = '/content/drive/MyDrive/online-grooming-detector-master/models/GAI_SVM.sav'\n",
        "pickle.dump(model, open(filename, 'wb'))"
      ],
      "execution_count": 8,
      "outputs": []
    }
  ]
}