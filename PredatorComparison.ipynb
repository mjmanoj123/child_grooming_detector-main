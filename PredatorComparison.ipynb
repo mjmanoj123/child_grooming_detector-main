{
  "nbformat": 4,
  "nbformat_minor": 0,
  "metadata": {
    "colab": {
      "name": "Untitled2.ipynb",
      "provenance": [],
      "authorship_tag": "ABX9TyOvG4JqSYSjq5JIFQoi0o6P",
      "include_colab_link": true
    },
    "kernelspec": {
      "name": "python3",
      "display_name": "Python 3"
    },
    "language_info": {
      "name": "python"
    }
  },
  "cells": [
    {
      "cell_type": "markdown",
      "metadata": {
        "id": "view-in-github",
        "colab_type": "text"
      },
      "source": [
        "<a href=\"https://colab.research.google.com/github/DavinciB/child_grooming_detector/blob/main/PredatorComparison.ipynb\" target=\"_parent\"><img src=\"https://colab.research.google.com/assets/colab-badge.svg\" alt=\"Open In Colab\"/></a>"
      ]
    },
    {
      "cell_type": "code",
      "metadata": {
        "colab": {
          "base_uri": "https://localhost:8080/"
        },
        "id": "0LO9dFbd_BJT",
        "outputId": "b0a2434f-d77a-4620-c3e8-0e6d755cca61"
      },
      "source": [
        "from google.colab import drive\n",
        "drive.mount('/content/drive')"
      ],
      "execution_count": 17,
      "outputs": [
        {
          "output_type": "stream",
          "text": [
            "Drive already mounted at /content/drive; to attempt to forcibly remount, call drive.mount(\"/content/drive\", force_remount=True).\n"
          ],
          "name": "stdout"
        }
      ]
    },
    {
      "cell_type": "code",
      "metadata": {
        "id": "KNZi0gwyDJS1"
      },
      "source": [
        "import xml.etree.ElementTree as ET\n",
        "import csv\n",
        "def get_susp_conv_dict(data_path):\n",
        "    labels_dict = {}\n",
        "    with open(data_path + 'sci_labels.csv', 'r') as f:\n",
        "        file = csv.reader(f)\n",
        "        for row in file:\n",
        "            labels_dict[row[0]] = row[1]\n",
        "    return labels_dict\n",
        "\n",
        "def get_predators_dict(file): \n",
        "    all_predators = {}\n",
        "    with open(file, 'r') as f:\n",
        "        reader = csv.reader(f)\n",
        "        for row in reader:\n",
        "            all_predators[row[0]] = 1\n",
        "    return all_predators\n",
        "            \n",
        "\n",
        "def get_features_labels(root, labels_dict, all_predators):\n",
        "    corpus = []\n",
        "    labels = []\n",
        "    for conversation in root:\n",
        "        if labels_dict[conversation.get('id')] == '0':\n",
        "            continue\n",
        "        author_conv_dict = {}\n",
        "        for message in conversation:\n",
        "            author = message.find('author').text\n",
        "            text = message.find('text').text\n",
        "            if text is not None:\n",
        "                if author not in author_conv_dict:\n",
        "                    author_conv_dict[author] = text\n",
        "                else:\n",
        "                    author_conv_dict[author] += \" \" + text \n",
        "        for author, conv in author_conv_dict.items():\n",
        "            corpus.append(conv)\n",
        "            if author in all_predators:\n",
        "                labels.append(1)\n",
        "            else:\n",
        "                labels.append(-1)\n",
        "    return corpus, labels"
      ],
      "execution_count": 18,
      "outputs": []
    },
    {
      "cell_type": "code",
      "metadata": {
        "id": "5ycAoGrRDO9G"
      },
      "source": [
        "train_data_path = '/content/drive/MyDrive/online-grooming-detector-master/data/svm_training_data/'\n",
        "training_xml = ET.parse(train_data_path + 'training_data.xml')\n",
        "train_root = training_xml.getroot()\n",
        "\n",
        "test_data_path = '/content/drive/MyDrive/online-grooming-detector-master/data/svm_test_data/'\n",
        "test_data_src = '/content/drive/MyDrive/online-grooming-detector-master/data/pan12-sexual-predator-identification-test-corpus-2012-05-21/'\n",
        "test_xml = ET.parse(test_data_src + 'pan12-sexual-predator-identification-test-corpus-2012-05-17.xml')\n",
        "test_root = test_xml.getroot()\n",
        "\n",
        "pred_train_file_path = '/content/drive/MyDrive/online-grooming-detector-master/data/pan12-sexual-predator-identification-training-corpus-2012-05-01/pan12-sexual-predator-identification-training-corpus-predators-2012-05-01.txt'\n",
        "pred_test_file_path = '/content/drive/MyDrive/online-grooming-detector-master/data/pan12-sexual-predator-identification-test-corpus-2012-05-21/pan12-sexual-predator-identification-groundtruth-problem1.txt'\n",
        "train_corpus, train_labels = get_features_labels(train_root, get_susp_conv_dict(train_data_path), get_predators_dict(pred_train_file_path))\n",
        "test_corpus, test_labels = get_features_labels(test_root, get_susp_conv_dict(test_data_path), get_predators_dict(pred_test_file_path))"
      ],
      "execution_count": 19,
      "outputs": []
    },
    {
      "cell_type": "code",
      "metadata": {
        "id": "Qh74pMY3DR8f"
      },
      "source": [
        "\n",
        "from sklearn.feature_extraction.text import TfidfVectorizer\n",
        "import scipy\n",
        "import numpy as np\n",
        "vectorizer = TfidfVectorizer(ngram_range=(1,2))\n",
        "X_train = vectorizer.fit_transform(train_corpus)\n",
        "X_test = vectorizer.transform(test_corpus)\n",
        "X_train = scipy.sparse.csr_matrix(X_train)\n",
        "y_train = np.array(train_labels)\n",
        "X_test = scipy.sparse.csr_matrix(X_test)\n",
        "y_test = np.array(test_labels)"
      ],
      "execution_count": 20,
      "outputs": []
    },
    {
      "cell_type": "code",
      "metadata": {
        "colab": {
          "base_uri": "https://localhost:8080/",
          "height": 312
        },
        "id": "fgmmILBODVw-",
        "outputId": "d50d4833-9e00-4a00-e612-bfcb633b2cf3"
      },
      "source": [
        "from sklearn import svm\n",
        "from sklearn.model_selection import KFold\n",
        "import matplotlib.pyplot as plt\n",
        "from sklearn import metrics\n",
        "import heapq\n",
        "import operator\n",
        "import numpy as np\n",
        "from mpl_toolkits.mplot3d import axes3d, Axes3D\n",
        "from sklearn.svm import LinearSVC\n",
        "\n",
        "num_fold = 10\n",
        "k_fold = KFold(num_fold, True, 1)\n",
        "acc = []\n",
        "for coef_c in np.arange(0.1, 5.1, 0.1):\n",
        "    acc_arr = np.zeros(num_fold)\n",
        "    ind = 0\n",
        "    for train_rows, val_rows in k_fold.split(X_train):\n",
        "        model = LinearSVC(random_state=0, C=coef_c, loss='squared_hinge', dual=True)\n",
        "        model.fit(X_train[train_rows], y_train[train_rows])\n",
        "        pred_y = model.predict(X_train[val_rows])\n",
        "        acc_arr[ind] = metrics.accuracy_score(y_train[val_rows], pred_y)\n",
        "        ind += 1\n",
        "    acc.append([coef_c, np.mean(acc_arr)])\n",
        "plt.plot([i[0] for i in acc], [i[1] for i in acc])\n",
        "plt.title(\"Performance of LINEAR SVM\")\n",
        "plt.xlabel(\"C valve\")\n",
        "plt.ylabel(\"Accuracy\")\n",
        "plt.show()\n",
        "best = heapq.nlargest(1, acc, key=operator.itemgetter(1))[0]\n",
        "print(\"Best performing linear kernel SVM: C={}, Acc={}\".format(best[0], best[1]))"
      ],
      "execution_count": 21,
      "outputs": [
        {
          "output_type": "display_data",
          "data": {
            "image/png": "[encoded data removed]",
            "text/plain": [
              "<Figure size 432x288 with 1 Axes>"
            ]
          },
          "metadata": {
            "tags": [],
            "needs_background": "light"
          }
        },
        {
          "output_type": "stream",
          "text": [
            "Best performing linear kernel SVM: C=4.3, Acc=0.9409635722679202\n"
          ],
          "name": "stdout"
        }
      ]
    },
    {
      "cell_type": "code",
      "metadata": {
        "colab": {
          "base_uri": "https://localhost:8080/",
          "height": 527
        },
        "id": "lyybZ5y9DaJQ",
        "outputId": "bb966570-2182-4334-b2fa-5b2c5b494c53"
      },
      "source": [
        "#model = LinearSVC(random_state=0, tol=1e-5, loss='squared_hinge',C=4.3)\n",
        "model = LinearSVC(random_state=0, C=4.3, loss='squared_hinge', dual=True)\n",
        "model.fit(X_train, y_train)\n",
        "y_pred = model.predict(X_test)\n",
        "print(\"LSVM-ACCURACY => \"+str(metrics.accuracy_score(y_test, y_pred)*100)+str(\" %\"))\n",
        "\n",
        "#CONFUSION MATRIX\n",
        "from sklearn.metrics import classification_report,confusion_matrix\n",
        "print(confusion_matrix(y_test,y_pred))\n",
        "print('\\n')\n",
        "print(classification_report(y_test,y_pred))\n",
        "\n",
        "#Plot confusion_matrix\n",
        "labels = ['-1', '1']\n",
        "fig = plt.figure()\n",
        "ax = fig.add_subplot(111)\n",
        "cax = ax.matshow(confusion_matrix(y_test,y_pred))\n",
        "plt.title('Confusion matrix of the classifier')\n",
        "fig.colorbar(cax)\n",
        "ax.set_xticklabels([''] + labels)\n",
        "ax.set_yticklabels([''] + labels)\n",
        "plt.xlabel('Predicted')\n",
        "plt.ylabel('True')\n",
        "plt.show()"
      ],
      "execution_count": 22,
      "outputs": [
        {
          "output_type": "stream",
          "text": [
            "LSVM-ACCURACY => 85.05706134094152 %\n",
            "[[1724  161]\n",
            " [ 677 3046]]\n",
            "\n",
            "\n",
            "              precision    recall  f1-score   support\n",
            "\n",
            "          -1       0.72      0.91      0.80      1885\n",
            "           1       0.95      0.82      0.88      3723\n",
            "\n",
            "    accuracy                           0.85      5608\n",
            "   macro avg       0.83      0.87      0.84      5608\n",
            "weighted avg       0.87      0.85      0.85      5608\n",
            "\n"
          ],
          "name": "stdout"
        },
        {
          "output_type": "display_data",
          "data": {
            "image/png": "[encoded data removed]",
            "text/plain": [
              "<Figure size 432x288 with 2 Axes>"
            ]
          },
          "metadata": {
            "tags": [],
            "needs_background": "light"
          }
        }
      ]
    },
    {
      "cell_type": "code",
      "metadata": {
        "colab": {
          "base_uri": "https://localhost:8080/",
          "height": 544
        },
        "id": "2LVv9NH1DeZe",
        "outputId": "d2564d07-8947-48ef-fe31-26888a767a4d"
      },
      "source": [
        "#logistic regression\n",
        "import time\n",
        "start=time.time()\n",
        "from sklearn import linear_model\n",
        "from sklearn import metrics\n",
        "log=linear_model.LogisticRegression()\n",
        "\n",
        "\n",
        "log.fit(X_train,y_train)\n",
        "y_pred=(log.predict(X_test))\n",
        "print(\"LOGISTIC-REGRESSION-ACCURACY => \"+str(metrics.accuracy_score(y_test, y_pred)*100)+str(\" %\"))\n",
        "end=time.time()\n",
        "print(\"time=\",end-start)\n",
        "#CLASSIFICATION REPORT\n",
        "from sklearn.metrics import classification_report,confusion_matrix\n",
        "#CONFUSION MATRIX\n",
        "print(confusion_matrix(y_test,y_pred))\n",
        "print('\\n')\n",
        "print(classification_report(y_test,y_pred))\n",
        "\n",
        "#Plot confusion_matrix\n",
        "labels = ['-1', '1']\n",
        "fig = plt.figure()\n",
        "ax = fig.add_subplot(111)\n",
        "cax = ax.matshow(confusion_matrix(y_test,y_pred))\n",
        "plt.title('Confusion matrix of the classifier')\n",
        "fig.colorbar(cax)\n",
        "ax.set_xticklabels([''] + labels)\n",
        "ax.set_yticklabels([''] + labels)\n",
        "plt.xlabel('Predicted')\n",
        "plt.ylabel('True')\n",
        "plt.show()"
      ],
      "execution_count": 23,
      "outputs": [
        {
          "output_type": "stream",
          "text": [
            "LOGISTIC-REGRESSION-ACCURACY => 82.16833095577746 %\n",
            "time= 0.4779198169708252\n",
            "[[1746  139]\n",
            " [ 861 2862]]\n",
            "\n",
            "\n",
            "              precision    recall  f1-score   support\n",
            "\n",
            "          -1       0.67      0.93      0.78      1885\n",
            "           1       0.95      0.77      0.85      3723\n",
            "\n",
            "    accuracy                           0.82      5608\n",
            "   macro avg       0.81      0.85      0.81      5608\n",
            "weighted avg       0.86      0.82      0.83      5608\n",
            "\n"
          ],
          "name": "stdout"
        },
        {
          "output_type": "display_data",
          "data": {
            "image/png": "[encoded data removed]",
            "text/plain": [
              "<Figure size 432x288 with 2 Axes>"
            ]
          },
          "metadata": {
            "tags": [],
            "needs_background": "light"
          }
        }
      ]
    },
    {
      "cell_type": "code",
      "metadata": {
        "colab": {
          "base_uri": "https://localhost:8080/",
          "height": 544
        },
        "id": "0bSYGEMSDyX9",
        "outputId": "023a6816-7e48-4d31-fdb6-f3c863ab0a4f"
      },
      "source": [
        "import time\n",
        "start=time.time()\n",
        "from sklearn.ensemble import AdaBoostClassifier\n",
        "abc = AdaBoostClassifier()\n",
        "\n",
        "# Train Adaboost Classifer\n",
        "model = abc.fit(X_train, y_train)\n",
        "y_pred = model.predict(X_test)\n",
        "\n",
        "print(\"Adaboost-ACCURACY => \"+str(metrics.accuracy_score(y_test, y_pred)*100)+str(\" %\"))\n",
        "end=time.time()\n",
        "print(\"time=\"+str(end-start))\n",
        "\n",
        "\n",
        "#CLASSIFICATION REPORT\n",
        "from sklearn.metrics import classification_report,confusion_matrix\n",
        "#CONFUSION MATRIX\n",
        "print(confusion_matrix(y_test,y_pred))\n",
        "print('\\n')\n",
        "print(classification_report(y_test,y_pred))\n",
        "\n",
        "#Plot confusion_matrix\n",
        "labels = ['-1', '1']\n",
        "fig = plt.figure()\n",
        "ax = fig.add_subplot(111)\n",
        "cax = ax.matshow(confusion_matrix(y_test,y_pred))\n",
        "plt.title('Confusion matrix of the classifier')\n",
        "fig.colorbar(cax)\n",
        "ax.set_xticklabels([''] + labels)\n",
        "ax.set_yticklabels([''] + labels)\n",
        "plt.xlabel('Predicted')\n",
        "plt.ylabel('True')\n",
        "plt.show()"
      ],
      "execution_count": 24,
      "outputs": [
        {
          "output_type": "stream",
          "text": [
            "Adaboost-ACCURACY => 78.28102710413695 %\n",
            "time=3.248260736465454\n",
            "[[1654  231]\n",
            " [ 987 2736]]\n",
            "\n",
            "\n",
            "              precision    recall  f1-score   support\n",
            "\n",
            "          -1       0.63      0.88      0.73      1885\n",
            "           1       0.92      0.73      0.82      3723\n",
            "\n",
            "    accuracy                           0.78      5608\n",
            "   macro avg       0.77      0.81      0.77      5608\n",
            "weighted avg       0.82      0.78      0.79      5608\n",
            "\n"
          ],
          "name": "stdout"
        },
        {
          "output_type": "display_data",
          "data": {
            "image/png": "[encoded data removed]",
            "text/plain": [
              "<Figure size 432x288 with 2 Axes>"
            ]
          },
          "metadata": {
            "tags": [],
            "needs_background": "light"
          }
        }
      ]
    },
    {
      "cell_type": "code",
      "metadata": {
        "colab": {
          "base_uri": "https://localhost:8080/",
          "height": 578
        },
        "id": "C0-wg0cfD2Q7",
        "outputId": "620086a3-b143-4969-ec1b-302894691215"
      },
      "source": [
        "#DECISION TREE\n",
        "import time\n",
        "Start = time.time ()\n",
        "from sklearn.tree import DecisionTreeClassifier \n",
        "Decision_tree= DecisionTreeClassifier(criterion = 'gini') \n",
        "Decision_tree.fit(X_train, y_train)\n",
        "Y_pred = Decision_tree.predict(X_test) \n",
        "    \n",
        "print(\"\\nConfusion Matrix : model evaluation\")\n",
        "from sklearn.metrics import confusion_matrix\n",
        "print(confusion_matrix(y_test, Y_pred))\n",
        "    \n",
        "print(\"\\n Classification report :\")\n",
        "from sklearn.metrics import classification_report\n",
        "print(classification_report(y_test, Y_pred))\n",
        "    \n",
        "\n",
        "from sklearn import metrics\n",
        "print(\"Decision Tree-ACCURACY => \"+str(metrics.accuracy_score(y_test, Y_pred)*100)+str(\" %\")+\"\\n\")\n",
        "\n",
        "#Plot confusion_matrix\n",
        "labels = ['-1', '1']\n",
        "fig = plt.figure()\n",
        "ax = fig.add_subplot(111)\n",
        "cax = ax.matshow(confusion_matrix(y_test,Y_pred))\n",
        "plt.title('Confusion matrix of the classifier')\n",
        "fig.colorbar(cax)\n",
        "ax.set_xticklabels([''] + labels)\n",
        "ax.set_yticklabels([''] + labels)\n",
        "plt.xlabel('Predicted')\n",
        "plt.ylabel('True')\n",
        "plt.show()"
      ],
      "execution_count": 25,
      "outputs": [
        {
          "output_type": "stream",
          "text": [
            "\n",
            "Confusion Matrix : model evaluation\n",
            "[[1498  387]\n",
            " [1184 2539]]\n",
            "\n",
            " Classification report :\n",
            "              precision    recall  f1-score   support\n",
            "\n",
            "          -1       0.56      0.79      0.66      1885\n",
            "           1       0.87      0.68      0.76      3723\n",
            "\n",
            "    accuracy                           0.72      5608\n",
            "   macro avg       0.71      0.74      0.71      5608\n",
            "weighted avg       0.76      0.72      0.73      5608\n",
            "\n",
            "Decision Tree-ACCURACY => 71.98644793152638 %\n",
            "\n"
          ],
          "name": "stdout"
        },
        {
          "output_type": "display_data",
          "data": {
            "image/png": "[encoded data removed]",
            "text/plain": [
              "<Figure size 432x288 with 2 Axes>"
            ]
          },
          "metadata": {
            "tags": [],
            "needs_background": "light"
          }
        }
      ]
    },
    {
      "cell_type": "code",
      "metadata": {
        "colab": {
          "base_uri": "https://localhost:8080/",
          "height": 544
        },
        "id": "f4lPl8m2D7Ei",
        "outputId": "16be175c-d6b4-41f0-f2c4-2f5b4f63d325"
      },
      "source": [
        "import pandas as pd\n",
        "from sklearn import model_selection\n",
        "from sklearn.ensemble import RandomForestClassifier\n",
        "rfc = RandomForestClassifier()\n",
        "rfc.fit(X_train,y_train)\n",
        "# predictions\n",
        "y_pred = rfc.predict(X_test)\n",
        "\n",
        "print(\"RandomForest-ACCURACY => \"+str(metrics.accuracy_score(y_test, y_pred)*100)+str(\" %\"))\n",
        "end=time.time()\n",
        "print(\"time=\"+str(end-start))\n",
        "\n",
        "\n",
        "#CLASSIFICATION REPORT\n",
        "from sklearn.metrics import classification_report,confusion_matrix\n",
        "#CONFUSION MATRIX\n",
        "print(confusion_matrix(y_test,y_pred))\n",
        "print('\\n')\n",
        "print(classification_report(y_test,y_pred))\n",
        "\n",
        "#Plot confusion_matrix\n",
        "labels = ['-1', '1']\n",
        "fig = plt.figure()\n",
        "ax = fig.add_subplot(111)\n",
        "cax = ax.matshow(confusion_matrix(y_test,y_pred))\n",
        "plt.title('Confusion matrix of the classifier')\n",
        "fig.colorbar(cax)\n",
        "ax.set_xticklabels([''] + labels)\n",
        "ax.set_yticklabels([''] + labels)\n",
        "plt.xlabel('Predicted')\n",
        "plt.ylabel('True')\n",
        "plt.show()"
      ],
      "execution_count": 26,
      "outputs": [
        {
          "output_type": "stream",
          "text": [
            "RandomForest-ACCURACY => 70.66690442225392 %\n",
            "time=8.050078392028809\n",
            "[[1743  142]\n",
            " [1503 2220]]\n",
            "\n",
            "\n",
            "              precision    recall  f1-score   support\n",
            "\n",
            "          -1       0.54      0.92      0.68      1885\n",
            "           1       0.94      0.60      0.73      3723\n",
            "\n",
            "    accuracy                           0.71      5608\n",
            "   macro avg       0.74      0.76      0.70      5608\n",
            "weighted avg       0.80      0.71      0.71      5608\n",
            "\n"
          ],
          "name": "stdout"
        },
        {
          "output_type": "display_data",
          "data": {
            "image/png": "[encoded data removed]",
            "text/plain": [
              "<Figure size 432x288 with 2 Axes>"
            ]
          },
          "metadata": {
            "tags": [],
            "needs_background": "light"
          }
        }
      ]
    }
  ]
}